{
 "cells": [
  {
   "cell_type": "code",
   "execution_count": 1,
   "id": "e621e29b-8e0f-4206-b422-e5671dd68e4c",
   "metadata": {},
   "outputs": [],
   "source": [
    "from dash import Dash, html, dcc, callback, Output, Input\n",
    "import plotly.express as px\n",
    "import numpy as np\n",
    "import pandas as pd"
   ]
  },
  {
   "cell_type": "code",
   "execution_count": 2,
   "id": "9b733195-2013-4c09-88c1-ff7b8b36bba6",
   "metadata": {},
   "outputs": [
    {
     "name": "stdout",
     "output_type": "stream",
     "text": [
      "Python: 3.12.2\n",
      "plotly: 5.22.0\n",
      "dash: 2.17.0\n",
      "numpy: 1.26.4\n",
      "pandas: 2.2.1\n"
     ]
    }
   ],
   "source": [
    "from platform import python_version\n",
    "import sys\n",
    "print('Python: ' + python_version()) # Python: 3.12.\n",
    "print ('plotly: ' + sys.modules[\"plotly\"].__version__) # plotly: 5.22.0\n",
    "print ('dash: ' + sys.modules[\"dash\"].__version__) # dash: 2.17.0\n",
    "print('numpy: ' + np.__version__) # numpy: 1.26.4\n",
    "print('pandas: ' + pd.__version__) # pandas: 2.2.1"
   ]
  },
  {
   "cell_type": "markdown",
   "id": "cfb59567-42bd-4193-8d16-4225447f4072",
   "metadata": {},
   "source": [
    "## Import dataset and merge to dataframe"
   ]
  },
  {
   "cell_type": "code",
   "execution_count": 3,
   "id": "2152edc9-e9fb-452a-aae8-c3526f466bbb",
   "metadata": {},
   "outputs": [],
   "source": [
    "dataset_precip = pd.read_pickle(\"./data/UMAP_time.pkl\")\n",
    "datacube_precip = np.load(\"./data/WaterPrecip_datacube_large.npy\")"
   ]
  },
  {
   "cell_type": "code",
   "execution_count": 4,
   "id": "3b925057-d317-4a9c-b761-ed73a3944bee",
   "metadata": {},
   "outputs": [],
   "source": [
    "datacube_precip = datacube_precip[datacube_precip.min(axis = (1,2)) >= 0,:,:]\n",
    "dataset_precip['Precip'] = list(datacube_precip)\n",
    "del datacube_precip "
   ]
  },
  {
   "cell_type": "markdown",
   "id": "40b82336-f21f-4e0b-a3db-764e16c98470",
   "metadata": {},
   "source": [
    "## Create a geojson grid of 1° Latitude x 1° Longitude"
   ]
  },
  {
   "cell_type": "code",
   "execution_count": 5,
   "id": "a7fdc844-0da5-4507-b5b1-fdcea9c7fd67",
   "metadata": {},
   "outputs": [],
   "source": [
    "geojson = {'type': 'FeatureCollection', \n",
    "                'features': []}\n",
    "for x in range(180):\n",
    "    for y in range(360):\n",
    "        temp_geometry = {'type': 'Polygon',\n",
    "                 'coordinates': [[[y-180, x-90],\n",
    "                                 [y-179, x-90],\n",
    "                                 [y-179, x-89],\n",
    "                                 [y-180, x-89]]]}\n",
    "        temp_features = {'type': 'Feature',\n",
    "                 'geometry': temp_geometry,\n",
    "                 'properties': {'location': \"lat: \" + str(x) + \" lon: \" + str(y)},\n",
    "                 'id': x*360+y}\n",
    "        geojson[\"features\"].append(temp_features)"
   ]
  },
  {
   "cell_type": "markdown",
   "id": "1c2c1290-d732-419e-ae84-1c18c9c122e1",
   "metadata": {},
   "source": [
    "## Create dashboard"
   ]
  },
  {
   "cell_type": "code",
   "execution_count": 6,
   "id": "cab87001-618f-4aae-af28-018cfa8f5ca2",
   "metadata": {},
   "outputs": [],
   "source": [
    "global_figure_styles = dict(margin={\"r\":0,\"t\":0,\"l\":0,\"b\":0}, paper_bgcolor= '#e4edf4')"
   ]
  },
  {
   "cell_type": "code",
   "execution_count": 7,
   "id": "645e05d8-c901-47b9-b0d1-2dd564025062",
   "metadata": {},
   "outputs": [],
   "source": [
    "# Create a Dash application instance\n",
    "app = Dash(__name__)\n",
    "# Define the layout of the app\n",
    "app.layout = html.Div([\n",
    "    # Header for the application\n",
    "    html.H1(children='Data Visualisation Precipitation over time', style={'textAlign':'center'}),\n",
    "    # Div for the radio button controls\n",
    "    html.Div([\n",
    "        dcc.RadioItems(\n",
    "            id='Dimension', \n",
    "            options=[\"2D\", \"3D\"],\n",
    "            value=\"2D\",\n",
    "            inline=True,\n",
    "            style={'display': 'inline-block', 'width': 100}\n",
    "        ),\n",
    "        dcc.RadioItems(\n",
    "            id='Time Aggregation', \n",
    "            options=[\"Year\", \"Month\"],\n",
    "            value=\"Month\",\n",
    "            inline=True,\n",
    "            style={'display': 'inline-block', 'border-left': '2px solid black'}\n",
    "        ),\n",
    "    ]),\n",
    "    # Div for the graph components\n",
    "    html.Div([\n",
    "        dcc.Graph(id=\"graph_UMAP\",\n",
    "                  style={'display': 'inline-block', 'width': '49%'}),\n",
    "        dcc.Graph(id=\"graph_map\",\n",
    "                  style={'display': 'inline-block', 'width': '49%'}),\n",
    "    ])\n",
    "]),\n",
    "\n",
    "\n",
    "# Callback function to create the UMAP plot based on user input\n",
    "@callback(\n",
    "    Output(\"graph_UMAP\", \"figure\"), \n",
    "    Input('Dimension', 'value'),\n",
    "    Input('Time Aggregation', 'value')\n",
    ")\n",
    "def display_umap(dim, timeAgg):\n",
    "    if dim == \"3D\":\n",
    "        # Create a 3D scatter plot\n",
    "        fig = px.scatter_3d(\n",
    "            dataset_precip, x=\"UMAP_1\", y=\"UMAP_2\", z=\"UMAP_3\",\n",
    "            color= timeAgg, labels={'color': 'digit'},\n",
    "        )\n",
    "        fig.update_traces(marker_size = 3)\n",
    "    else:\n",
    "        # Create a 2D scatter plot\n",
    "        fig = px.scatter(\n",
    "            dataset_precip, x=\"UMAP_1\", y=\"UMAP_2\",\n",
    "            color= timeAgg, labels={'color': 'digit'}\n",
    "        )\n",
    "    fig.update_layout(**global_figure_styles,\n",
    "                      clickmode='event+select')\n",
    "    return fig\n",
    "\n",
    "# Callback function to update the choropleth map based on the selected point in the UMAP plot\n",
    "@callback(\n",
    "    Output(\"graph_map\", \"figure\"), \n",
    "    Input('graph_UMAP', 'clickData')\n",
    ")\n",
    "def display_choropleth(clickData):\n",
    "    # Check if a point in the UMAP plot is clicked\n",
    "    if clickData is not None:\n",
    "        itemp = clickData['points'][0]['pointNumber']\n",
    "    else:\n",
    "        itemp = 0\n",
    "    # Prepare the data for the choropleth map\n",
    "    temp = pd.DataFrame(dataset_precip.loc[itemp, \"Precip\"]).stack().reset_index()\n",
    "    temp_scale = [(0, \"white\"), (0.5, \"blue\"), (1, \"navy\")]\n",
    "    # Create a new column combining latitude and longitude information\n",
    "    temp[\"location\"] = temp.apply(lambda row: \"lat: \" + str(int(row[\"level_0\"])) + \" lon: \" +  str(int(row[\"level_1\"])), axis=1)\n",
    "    temp.rename({0: \"value\"}, axis='columns', inplace=True)\n",
    "    # Create a choropleth map\n",
    "    fig = px.choropleth_mapbox(temp, geojson=geojson, color=\"value\", opacity=.2,\n",
    "                               color_continuous_scale=temp_scale,\n",
    "                               locations=\"location\", featureidkey=\"properties.location\", \n",
    "                               center={\"lat\": 50, \"lon\": 10}, \n",
    "                               mapbox_style=\"carto-positron\", zoom=3)\n",
    "    fig.update_layout(**global_figure_styles)\n",
    "    return fig\n",
    "\n"
   ]
  },
  {
   "cell_type": "code",
   "execution_count": 8,
   "id": "4f8bc1da-cdf0-4b38-8d00-65f09717e0fe",
   "metadata": {},
   "outputs": [
    {
     "data": {
      "text/html": [
       "\n",
       "        <iframe\n",
       "            width=\"100%\"\n",
       "            height=\"600\"\n",
       "            src=\"http://127.0.0.1:8070/\"\n",
       "            frameborder=\"0\"\n",
       "            allowfullscreen\n",
       "            \n",
       "        ></iframe>\n",
       "        "
      ],
      "text/plain": [
       "<IPython.lib.display.IFrame at 0x2428ca8cce0>"
      ]
     },
     "metadata": {},
     "output_type": "display_data"
    }
   ],
   "source": [
    "if __name__ == '__main__':\n",
    "    app.run(jupyter_height=600, debug=True, port = 8070)"
   ]
  },
  {
   "cell_type": "code",
   "execution_count": null,
   "id": "6d0af5e1-dffa-442a-8393-5104d8872f0a",
   "metadata": {},
   "outputs": [],
   "source": []
  }
 ],
 "metadata": {
  "kernelspec": {
   "display_name": "Python 3 (ipykernel)",
   "language": "python",
   "name": "python3"
  },
  "language_info": {
   "codemirror_mode": {
    "name": "ipython",
    "version": 3
   },
   "file_extension": ".py",
   "mimetype": "text/x-python",
   "name": "python",
   "nbconvert_exporter": "python",
   "pygments_lexer": "ipython3",
   "version": "3.12.2"
  }
 },
 "nbformat": 4,
 "nbformat_minor": 5
}
