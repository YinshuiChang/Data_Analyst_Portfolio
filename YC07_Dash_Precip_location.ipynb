{
 "cells": [
  {
   "cell_type": "code",
   "execution_count": 1,
   "id": "a8f52a0a-1762-488e-930f-b4f8749e0aed",
   "metadata": {},
   "outputs": [],
   "source": [
    "from dash import Dash, html, dcc, callback, Output, Input, ctx\n",
    "import plotly.express as px\n",
    "import plotly.graph_objects as go\n",
    "import numpy as np\n",
    "import pandas as pd"
   ]
  },
  {
   "cell_type": "code",
   "execution_count": 2,
   "id": "80fb0a44-4af8-4593-9a7c-736429767e82",
   "metadata": {},
   "outputs": [
    {
     "name": "stdout",
     "output_type": "stream",
     "text": [
      "Python: 3.12.2\n",
      "dash: 2.17.0\n",
      "pandas: 2.2.1\n",
      "numpy: 1.26.4\n",
      "plotly: 5.22.0\n"
     ]
    }
   ],
   "source": [
    "from platform import python_version\n",
    "import sys\n",
    "print('Python: ' + python_version()) # Python: 3.12.\n",
    "print ('dash: ' + sys.modules[\"dash\"].__version__) # dash: 2.17.0\n",
    "print('pandas: ' + pd.__version__) # pandas: 2.2.1\n",
    "print('numpy: ' + np.__version__) # numpy: 1.26.4\n",
    "print ('plotly: ' + sys.modules[\"plotly\"].__version__) # plotly: 5.22.0"
   ]
  },
  {
   "cell_type": "markdown",
   "id": "73c79ee8-6435-4738-9280-526af808102f",
   "metadata": {},
   "source": [
    "## Import dataset and merge to dataframe"
   ]
  },
  {
   "cell_type": "code",
   "execution_count": 3,
   "id": "204de20e-916b-4ed5-ad90-3ebbad84a5a3",
   "metadata": {},
   "outputs": [],
   "source": [
    "dataset_precip = pd.read_pickle(\"./data/UMAP_location.pkl\")\n",
    "datacube_precip = np.load(\"./data/WaterPrecip_datacube_large.npy\")"
   ]
  },
  {
   "cell_type": "code",
   "execution_count": 4,
   "id": "18ba3699-0157-4cf3-b28f-a38a233f595c",
   "metadata": {},
   "outputs": [],
   "source": [
    "datacube_precip = datacube_precip[datacube_precip.min(axis = (1,2)) >= 0,:,:]\n",
    "datacube_precip = datacube_precip.reshape(-1,180*360).T\n",
    "dataset_precip['Precip'] = list(datacube_precip)\n",
    "del datacube_precip "
   ]
  },
  {
   "cell_type": "markdown",
   "id": "a086d84b-3dcf-407d-bd23-db1689ced7a1",
   "metadata": {},
   "source": [
    "## Create a geojson grid of 1° Latitude x 1° Longitude\n",
    "### geojson file format:\n",
    "```python\n",
    "# Feature collection object\n",
    "{'type': 'FeatureCollection', \n",
    " # List of features\n",
    " 'features': [\n",
    "     {'type': 'Feature',\n",
    "      # supported geometry types: Point, LineString, Polygon, MultiPoint, MultiLineString, and MultiPolygon.\n",
    "      'geometry':\n",
    "          {'type': 'Polygon', \n",
    "            # List of coordinates\n",
    "           'coordinates': \n",
    "               [[[lon_1, lat_1], [lon_2, lat_2], ....]]}\n",
    "      # Dictionary of property key values sets\n",
    "      'properties': {key: value},\n",
    "      'id': x},\n",
    "     .... # further features\n",
    " ]\n",
    "}\n",
    "```"
   ]
  },
  {
   "cell_type": "code",
   "execution_count": 5,
   "id": "7285d555-0477-4bd5-9994-56fb0a126cb7",
   "metadata": {},
   "outputs": [],
   "source": [
    "# create an empty feature collection\n",
    "geojson = {'type': 'FeatureCollection', \n",
    "                'features': []}\n",
    "# create a feature for each 1° Latitude x 1° Longitude square\n",
    "# 0° x 0° are at the coner of the grid\n",
    "for x in range(180):\n",
    "    for y in range(360):\n",
    "        # Add the corners of the 1x1 square to a geometry object\n",
    "        # The lat and lon are added as 90N -90S -180W 180E format\n",
    "        temp_geometry = {'type': 'Polygon',\n",
    "                 'coordinates': [[[y-180, x-90],\n",
    "                                 [y-179, x-90],\n",
    "                                 [y-179, x-89],\n",
    "                                 [y-180, x-89]]]}\n",
    "        # Add the geographical coordinates to the feature\n",
    "        temp_features = {'type': 'Feature', \n",
    "                         'geometry': temp_geometry,\n",
    "                         # Dictionary of property key values sets\n",
    "                         # an easy readable string is choosen as feature name\n",
    "                         'properties': {'location': \"lat: \" + str(x) + \" lon: \" + str(y)},\n",
    "                         # unique int id for each feature\n",
    "                         'id': x*360+y}\n",
    "        # add feature to feature collection\n",
    "        geojson[\"features\"].append(temp_features)"
   ]
  },
  {
   "cell_type": "code",
   "execution_count": 6,
   "id": "1abb59c1-67b3-48a8-841c-59efcccb580c",
   "metadata": {},
   "outputs": [],
   "source": [
    "# rename the column location to match the geojson feature name\n",
    "dataset_precip[\"location\"] = dataset_precip.apply(lambda row: \"lat: \" + str(row[\"lat\"]) + \" lon: \" +  str(row[\"lon\"]), axis=1)"
   ]
  },
  {
   "cell_type": "markdown",
   "id": "fc29986f-b6f5-4f8e-a513-23c6ec915b95",
   "metadata": {},
   "source": [
    "## Create dashboard"
   ]
  },
  {
   "cell_type": "code",
   "execution_count": 7,
   "id": "00568b17-1793-4999-ad4a-4b0c5f6402d1",
   "metadata": {},
   "outputs": [],
   "source": [
    "global_figure_styles = dict(margin={\"r\":0,\"t\":0,\"l\":0,\"b\":0}, paper_bgcolor= '#e4edf4')"
   ]
  },
  {
   "cell_type": "code",
   "execution_count": 8,
   "id": "9d3521b7-bd7b-4cfa-a21d-d90497fe8463",
   "metadata": {},
   "outputs": [],
   "source": [
    "# Create a Dash application instance\n",
    "app = Dash(__name__)\n",
    "# Define the layout of the app\n",
    "app.layout = html.Div([\n",
    "    # Header for the application\n",
    "    html.H1(children='Data Visualisation global Precipitation', style={'textAlign':'center'}),\n",
    "    # Div for the precipitation map and its controls\n",
    "    html.Div([\n",
    "        html.H3(children='Map of precipitation', style={'margin-top': 0, 'margin-bottom': 0}),\n",
    "        dcc.RadioItems(\n",
    "            id='Time Aggregation', \n",
    "            options=[\"Mean\", \"Min\", \"Max\", \"Median\"],\n",
    "            value=\"Mean\",\n",
    "            inline=True\n",
    "        ),\n",
    "        dcc.Graph(id=\"graph_map\")],\n",
    "        style={'display': 'inline-block', 'width': '49%'}\n",
    "    ),\n",
    "    # Div for the UMAP visualization and its controls\n",
    "    html.Div([\n",
    "        html.H3(children='UMAP of precipitation', style={'margin-top': 0, 'margin-bottom': 0}),\n",
    "        dcc.RadioItems(\n",
    "            id='Dimension', \n",
    "            options=[\"2D\", \"3D\"],\n",
    "            value=\"2D\",\n",
    "            inline=True,\n",
    "            style={'display': 'inline-block', 'width': 100}\n",
    "        ),\n",
    "        dcc.RadioItems(\n",
    "            id='Location Aggregation', \n",
    "            options=[\"lat\", \"lon\", \"Mean\", \"Median\"],\n",
    "            value=\"lat\",\n",
    "            inline=True,\n",
    "            style={'display': 'inline-block', 'border-left': '2px solid black'}\n",
    "        ),\n",
    "        dcc.Graph(id=\"graph_UMAP\")],\n",
    "        style={'display': 'inline-block', 'width': '49%'}\n",
    "    ),\n",
    "    html.Hr(),\n",
    "    # Graph component to display the time series plot\n",
    "    html.H3(children='Precipitation over time', style={'margin-top': 0, 'margin-bottom': 0}),\n",
    "    dcc.Graph(id=\"graph_time\"),\n",
    "]),\n",
    "\n",
    "\n",
    "# Callback function to create the UMAP plot based on user input\n",
    "@callback(\n",
    "    Output(\"graph_UMAP\", \"figure\"), \n",
    "    Input('Dimension', 'value'),\n",
    "    Input('Location Aggregation', 'value'),\n",
    ")\n",
    "def display_umap(dim, timeAgg):\n",
    "    if dim == \"3D\":\n",
    "        # Create a 3D scatter plot\n",
    "        fig = px.scatter_3d(\n",
    "            dataset_precip, x=\"UMAP_1\", y=\"UMAP_2\", z=\"UMAP_3\",\n",
    "            color= timeAgg, labels={'color': 'digit'},\n",
    "            hover_name    = \"location\"\n",
    "        )\n",
    "\n",
    "    else:\n",
    "        # Create a 2D scatter plot\n",
    "        fig = px.scatter(\n",
    "            dataset_precip, x=\"UMAP_1\", y=\"UMAP_2\",\n",
    "            color= timeAgg, labels={'color': 'digit'},\n",
    "            hover_name   = \"location\"\n",
    "        )\n",
    "    \n",
    "    fig.update_layout(**global_figure_styles,\n",
    "                      clickmode='event+select')\n",
    "    return fig\n",
    "\n",
    "\n",
    "# Callback function to create the choropleth map based on user input\n",
    "@callback(\n",
    "    Output(\"graph_map\", \"figure\"),\n",
    "    Input('Time Aggregation', 'value'),\n",
    ")\n",
    "def display_choropleth(timeAgg):\n",
    "    temp_scale = [(0, \"white\"), (0.5, \"blue\"), (1, \"navy\")]\n",
    "    fig = px.choropleth_mapbox(dataset_precip, geojson = geojson, color = timeAgg, opacity=.2,\n",
    "                               color_continuous_scale = temp_scale,\n",
    "                               locations = \"location\", featureidkey = \"properties.location\", \n",
    "                               center = {\"lat\": 50, \"lon\": 10}, \n",
    "                               mapbox_style = \"carto-positron\", zoom=3)\n",
    "    fig.update_layout(**global_figure_styles,\n",
    "                     clickmode='event+select')\n",
    "    return fig\n",
    "\n",
    "# Callback function to update the time series plot based on click data from other plots\n",
    "@callback(\n",
    "    Output(\"graph_time\", \"figure\"),\n",
    "    Input('Dimension', 'value'),\n",
    "    Input(\"graph_map\", \"clickData\"),\n",
    "    Input(\"graph_UMAP\", \"clickData\")\n",
    ")\n",
    "def display_line(dim, sel_map, sel_UMAP):\n",
    "    # callback_context is used to determine the id of the component that triggered the callback.\n",
    "    click = ctx.triggered_id if not None else 'graph_UMAP'\n",
    "    itemp = 0\n",
    "    # Check if the UMAP plot triggered the callback and a point is selected\n",
    "    if click == \"graph_UMAP\" :\n",
    "        if sel_UMAP is not None:\n",
    "            itemp = sel_UMAP['points'][0]['pointNumber']\n",
    "    # Check if the map plot triggered the callback and a point is selected\n",
    "    elif click == \"graph_map\":\n",
    "        if sel_map is not None:\n",
    "            itemp = sel_map['points'][0]['pointNumber']\n",
    "    \n",
    "    fig = go.Figure(data=go.Scatter(y = list(dataset_precip.loc[itemp, \"Precip\"])))\n",
    "    fig.update_layout(**global_figure_styles, \n",
    "                      height=300)\n",
    "    return fig"
   ]
  },
  {
   "cell_type": "code",
   "execution_count": 9,
   "id": "e31b1a7e-a54b-4c0c-9ed7-16df9683b989",
   "metadata": {},
   "outputs": [
    {
     "data": {
      "text/html": [
       "\n",
       "        <iframe\n",
       "            width=\"100%\"\n",
       "            height=\"920\"\n",
       "            src=\"http://127.0.0.1:8090/\"\n",
       "            frameborder=\"0\"\n",
       "            allowfullscreen\n",
       "            \n",
       "        ></iframe>\n",
       "        "
      ],
      "text/plain": [
       "<IPython.lib.display.IFrame at 0x215deec59a0>"
      ]
     },
     "metadata": {},
     "output_type": "display_data"
    }
   ],
   "source": [
    "if __name__ == '__main__':\n",
    "    app.run(jupyter_height=920, debug=True, port = 8090)"
   ]
  },
  {
   "cell_type": "code",
   "execution_count": null,
   "id": "94432db0-d524-43e1-bb78-2bddc5a795d9",
   "metadata": {},
   "outputs": [],
   "source": []
  }
 ],
 "metadata": {
  "kernelspec": {
   "display_name": "Python 3 (ipykernel)",
   "language": "python",
   "name": "python3"
  },
  "language_info": {
   "codemirror_mode": {
    "name": "ipython",
    "version": 3
   },
   "file_extension": ".py",
   "mimetype": "text/x-python",
   "name": "python",
   "nbconvert_exporter": "python",
   "pygments_lexer": "ipython3",
   "version": "3.12.2"
  }
 },
 "nbformat": 4,
 "nbformat_minor": 5
}
