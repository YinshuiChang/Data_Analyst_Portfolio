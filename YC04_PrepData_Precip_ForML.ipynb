{
 "cells": [
  {
   "cell_type": "markdown",
   "id": "2047376c-9323-45a8-b35d-d1ed730d4ee1",
   "metadata": {},
   "source": [
    "# Prepare the daily mean precipitation dataset from 1996 to 2022 for ML"
   ]
  },
  {
   "cell_type": "code",
   "execution_count": 3,
   "id": "ce987c41-22c4-4afc-a906-cd7e7fc66df0",
   "metadata": {},
   "outputs": [],
   "source": [
    "import os\n",
    "import netCDF4\n",
    "import datetime\n",
    "import math\n",
    "import pandas as pd\n",
    "import matplotlib.pyplot as plt\n",
    "import seaborn as sns\n",
    "import functools "
   ]
  },
  {
   "cell_type": "code",
   "execution_count": 4,
   "id": "56268e3d-d1c0-4c44-b0be-9bdbc686a147",
   "metadata": {},
   "outputs": [
    {
     "name": "stdout",
     "output_type": "stream",
     "text": [
      "Python: 3.12.2\n",
      "netCDF4: 1.6.5\n",
      "pandas: 2.2.1\n",
      "numpy: 1.26.4\n",
      "matplotlib: 3.8.3\n",
      "seaborn: 0.13.2\n"
     ]
    }
   ],
   "source": [
    "from platform import python_version\n",
    "import sys\n",
    "print('Python: ' + python_version()) # Python: 3.12.2\n",
    "print('netCDF4: ' + netCDF4.__version__) # netCDF4: 1.6.5\n",
    "print('pandas: ' + pd.__version__) # pandas: 2.2.1\n",
    "print('numpy: ' + np.__version__) # numpy: 1.26.4\n",
    "print ('matplotlib: ' + sys.modules[\"matplotlib\"].__version__) # matplotlib: 3.8.3\n",
    "print('seaborn: ' + sns.__version__) # seaborn: 0.13.2"
   ]
  },
  {
   "cell_type": "markdown",
   "id": "8ca7ce7d-8073-4fa7-bf0b-55d0ce31e50c",
   "metadata": {},
   "source": [
    "## Load the daily mean precipitation dataset from 1996 to 2022"
   ]
  },
  {
   "cell_type": "code",
   "execution_count": 5,
   "id": "b8c9c4a6-a191-4fe2-b5b9-0a9931a230de",
   "metadata": {},
   "outputs": [],
   "source": [
    "Datasetpath = \"datasets_daily/dataset-satellite-precipitation-large/\""
   ]
  },
  {
   "cell_type": "code",
   "execution_count": 6,
   "id": "c27e050d-e063-49e2-9da3-0083e6264eed",
   "metadata": {},
   "outputs": [],
   "source": [
    "file2read = netCDF4.Dataset(Datasetpath+'gpcp_v01r03_daily_d20200101_c20200408.nc','r')\n",
    "latitude = np.array(file2read.variables[\"latitude\"][:])\n",
    "longitude = np.array(file2read.variables[\"longitude\"][:])\n",
    "longitude = (longitude + 180) % 360 - 180"
   ]
  },
  {
   "cell_type": "code",
   "execution_count": 7,
   "id": "28bab00e-f651-4bc5-8afc-46dc9e17c090",
   "metadata": {},
   "outputs": [
    {
     "data": {
      "text/plain": [
       "9404"
      ]
     },
     "execution_count": 7,
     "metadata": {},
     "output_type": "execute_result"
    }
   ],
   "source": [
    "dataset_list = os.listdir(Datasetpath)\n",
    "len(dataset_list)"
   ]
  },
  {
   "cell_type": "code",
   "execution_count": 8,
   "id": "814f404f-a033-40c1-815e-bca3c64eb964",
   "metadata": {},
   "outputs": [],
   "source": [
    "List_time = []\n",
    "datacube_precip = None\n",
    "temp = np.argsort(longitude)\n",
    "for dataset in dataset_list:\n",
    "    file2read = netCDF4.Dataset(Datasetpath+dataset,'r')\n",
    "    List_time.append(datetime.date.fromtimestamp(int(file2read.variables[\"time\"][0]*24*60*60)).strftime('%Y%m%d'))\n",
    "    if datacube_precip is not None:\n",
    "        datacube_precip = np.concatenate((datacube_precip, file2read.variables[\"precip\"][:,:,temp]), axis=0)\n",
    "    else:\n",
    "        datacube_precip = file2read.variables[\"precip\"][:,:,:]\n",
    "longitude.sort()"
   ]
  },
  {
   "cell_type": "markdown",
   "id": "7cfafabe-de29-4041-81c3-8a56ae1eaa5b",
   "metadata": {},
   "source": [
    "### save data as np.array in .npy file format"
   ]
  },
  {
   "cell_type": "code",
   "execution_count": 9,
   "id": "d74a95fe-9bf4-4d76-847d-a606b151bd7e",
   "metadata": {},
   "outputs": [],
   "source": [
    "# convert the masked array to np.array\n",
    "datacube_precip = datacube_precip.data"
   ]
  },
  {
   "cell_type": "code",
   "execution_count": 10,
   "id": "8c47a5ed-3952-43cb-88a3-57b4cefcbabb",
   "metadata": {},
   "outputs": [],
   "source": [
    "np.save(\"./data/WaterPrecip_datacube_large.npy\", datacube_precip)"
   ]
  },
  {
   "cell_type": "code",
   "execution_count": 11,
   "id": "4b3f4a14-eb02-470d-9f2f-10ba7915afc6",
   "metadata": {},
   "outputs": [],
   "source": [
    "# convert the time value to int\n",
    "List_time = np.array(list(map(int, List_time)))"
   ]
  },
  {
   "cell_type": "code",
   "execution_count": 12,
   "id": "3ebbcf5e-1adf-4f72-96c1-e7924650e499",
   "metadata": {},
   "outputs": [],
   "source": [
    "np.save(\"./data/WaterPrecip_time_large.npy\", List_time)"
   ]
  },
  {
   "cell_type": "code",
   "execution_count": 13,
   "id": "cec70dcc-fecc-456c-be72-c796f61c2fc5",
   "metadata": {},
   "outputs": [],
   "source": [
    "np.save(\"./data/WaterPrecip_latitude.npy\", latitude)\n",
    "np.save(\"./data/WaterPrecip_longitude.npy\", longitude)"
   ]
  },
  {
   "cell_type": "code",
   "execution_count": 14,
   "id": "176de277-7910-4d0f-b3d9-d041a7e25630",
   "metadata": {},
   "outputs": [],
   "source": [
    "time = np.load(\"./data/WaterPrecip_time_large.npy\")"
   ]
  },
  {
   "cell_type": "markdown",
   "id": "0a25aa34-cacd-48d3-b6b8-fb5d21d3d151",
   "metadata": {},
   "source": [
    "# Get missing values"
   ]
  },
  {
   "cell_type": "code",
   "execution_count": 15,
   "id": "64d505f4-80e5-49b3-ae07-350ea69d46c6",
   "metadata": {},
   "outputs": [],
   "source": [
    "temp_nMissing = []\n",
    "temp_max_Val = []\n",
    "for i, x in enumerate(datacube_precip.min(axis = (1,2)) < -1):\n",
    "    if x:\n",
    "        temp_nMissing.append(sum(datacube_precip[i,:,:].flatten() < -1))\n",
    "        temp_max_Val.append(max(datacube_precip[i,:,:].flatten()))\n",
    "idx_missingVal = pd.DataFrame(data= {'Date': List_time[datacube_precip.min(axis = (1,2)) < -1], \n",
    "                                     'index': [i for i, x in enumerate(datacube_precip.min(axis = (1,2)) < -1) if x], \n",
    "                                     'nMissing': temp_nMissing, \n",
    "                                     'max_Val': temp_max_Val})"
   ]
  },
  {
   "cell_type": "code",
   "execution_count": 16,
   "id": "ae2c337a-4da0-4d29-98c9-b8e77b31d0c7",
   "metadata": {},
   "outputs": [
    {
     "name": "stdout",
     "output_type": "stream",
     "text": [
      "         Date  index  nMissing     max_Val\n",
      "0    19980109    465       103   86.302559\n",
      "1    19980110    466       109  105.335381\n",
      "2    19980111    467        52   66.128906\n",
      "3    19981116    776        18   83.341217\n",
      "4    19981218    808         2   94.983139\n",
      "..        ...    ...       ...         ...\n",
      "167  20220404   9316     36000    0.000000\n",
      "168  20220405   9317     36000    0.000000\n",
      "169  20220406   9318     36000    0.000000\n",
      "170  20220407   9319     10940   94.238518\n",
      "171  20220413   9325       198   79.945358\n",
      "\n",
      "[172 rows x 4 columns]\n"
     ]
    }
   ],
   "source": [
    "print(idx_missingVal)"
   ]
  },
  {
   "cell_type": "markdown",
   "id": "078ec563-78ed-43d3-925a-1f437dc5cfc6",
   "metadata": {},
   "source": [
    "## Normalize outliers"
   ]
  },
  {
   "cell_type": "code",
   "execution_count": 17,
   "id": "6673bfb4-d091-4985-bc15-455c65eaf7ae",
   "metadata": {},
   "outputs": [
    {
     "data": {
      "image/png": "[encoded data removed]",
      "text/plain": [
       "<Figure size 500x400 with 3 Axes>"
      ]
     },
     "metadata": {},
     "output_type": "display_data"
    }
   ],
   "source": [
    "fig, axs = plt.subplots(ncols=3, figsize=(5,4), gridspec_kw={'width_ratios': [1, 1, 1]})\n",
    "fig.tight_layout()\n",
    "# Due to the large size of the dataset not all points could be plotted\n",
    "# Aggregate by time slices with max\n",
    "axs[0].set_title('all')\n",
    "sns.violinplot(datacube_precip.max(axis = (1,2)), inner=None, ax=axs[0])\n",
    "sns.stripplot(datacube_precip.max(axis = (1,2)), size = 3, ax=axs[0])\n",
    "# 7 points are greater than 250 mm/d\n",
    "# Exclude the outlier\n",
    "axs[1].set_title('w/o max')\n",
    "temp = datacube_precip[datacube_precip.max(axis = (1,2)) < 250,:,:]\n",
    "sns.violinplot(temp.max(axis = (1,2)), inner=None, ax=axs[1])\n",
    "sns.stripplot(temp.max(axis = (1,2)), size = 3, ax=axs[1])\n",
    "# Time slices that have no values have 0 as max value\n",
    "# Exclude slices that contains missing values\n",
    "axs[2].set_title('w/o min')\n",
    "temp = temp[temp.min(axis = (1,2)) > -1,:,:]\n",
    "sns.violinplot(temp.max(axis = (1,2)), inner=None, ax=axs[2])\n",
    "sns.stripplot(temp.max(axis = (1,2)), size = 3, ax=axs[2])\n",
    "plt.show()"
   ]
  },
  {
   "cell_type": "markdown",
   "id": "cd5b46fd-4d18-42ac-9e15-7cfbe4daa262",
   "metadata": {},
   "source": [
    "### Look into the time slices that contains values over 250 mm/day"
   ]
  },
  {
   "cell_type": "code",
   "execution_count": 18,
   "id": "546343f0-e9e8-4421-8b99-01f7032174ab",
   "metadata": {},
   "outputs": [
    {
     "data": {
      "image/png": "[encoded data removed]",
      "text/plain": [
       "<Figure size 200x400 with 1 Axes>"
      ]
     },
     "metadata": {},
     "output_type": "display_data"
    }
   ],
   "source": [
    "fig, axs = plt.subplots(figsize=(2,4))\n",
    "sns.violinplot(datacube_precip[datacube_precip.max(axis = (1,2)) > 250,:,:].flatten())\n",
    "sns.stripplot(datacube_precip[datacube_precip.max(axis = (1,2)) > 250,:,:].flatten(), size = 3)\n",
    "plt.show()"
   ]
  },
  {
   "cell_type": "markdown",
   "id": "42cf6366-71d5-47eb-995e-a04500c49eea",
   "metadata": {},
   "source": [
    "### Values over 250 mm/day are set to 250 mm/day"
   ]
  },
  {
   "cell_type": "code",
   "execution_count": 19,
   "id": "583d717e-7adc-44c3-a625-67fb8495217a",
   "metadata": {},
   "outputs": [],
   "source": [
    "datacube_precip[datacube_precip > 250] = 250"
   ]
  },
  {
   "cell_type": "markdown",
   "id": "ddf63116-689d-47cc-ab80-16bf5fd1833d",
   "metadata": {},
   "source": [
    "# Prepare data for Convolutional Neural Network (CNN) Training"
   ]
  },
  {
   "cell_type": "markdown",
   "id": "e3586573-5846-4d93-be47-dda1cdfabe2c",
   "metadata": {},
   "source": [
    "### Add padding for the CNN\n",
    "Under the assumption that the earth is round padding are added taking this into account"
   ]
  },
  {
   "cell_type": "code",
   "execution_count": 20,
   "id": "e09f98f6-bf02-413a-aa3c-8640215c937f",
   "metadata": {},
   "outputs": [
    {
     "data": {
      "text/plain": [
       "(9404, 180, 360)"
      ]
     },
     "execution_count": 20,
     "metadata": {},
     "output_type": "execute_result"
    }
   ],
   "source": [
    "datacube_precip.shape"
   ]
  },
  {
   "cell_type": "code",
   "execution_count": 21,
   "id": "1ae0dac2-ff69-4a1f-9a85-8b22129708b6",
   "metadata": {},
   "outputs": [],
   "source": [
    "temp_0 = datacube_precip[:,0,:]\n",
    "temp_0 = np.concatenate((temp_0[:,180:], temp_0[:,:180]) , axis=1)\n",
    "temp_0 = temp_0.reshape(9404,1,360)\n",
    "temp_180 = datacube_precip[:,179,:]\n",
    "temp_180 = np.concatenate((temp_180[:,180:], temp_180[:,:180]) , axis=1)\n",
    "temp_180 = temp_180.reshape(9404,1,360)\n",
    "datacube_precip = np.concatenate((temp_180, datacube_precip, temp_0), axis=1)"
   ]
  },
  {
   "cell_type": "code",
   "execution_count": 22,
   "id": "32bf69b3-9df8-4aa4-acea-94810afa67e2",
   "metadata": {},
   "outputs": [],
   "source": [
    "datacube_precip = np.concatenate((datacube_precip[:,:,359].reshape((9404,182,1)), datacube_precip, datacube_precip[:,:,0].reshape((9404,182,1))), axis=2)"
   ]
  },
  {
   "cell_type": "code",
   "execution_count": 23,
   "id": "e77d5795-ce3b-4be4-a1cc-019817e1ba4f",
   "metadata": {},
   "outputs": [
    {
     "data": {
      "text/plain": [
       "(9404, 182, 362)"
      ]
     },
     "execution_count": 23,
     "metadata": {},
     "output_type": "execute_result"
    }
   ],
   "source": [
    "datacube_precip.shape"
   ]
  },
  {
   "cell_type": "markdown",
   "id": "15aa3be4-4a3b-4ee0-9fbf-e620824bb956",
   "metadata": {},
   "source": [
    "## Create the dataset for the Convolutional Autoencoder\n",
    "Remove the time slices that contains missing values and reshape array to match the requirements for the ML"
   ]
  },
  {
   "cell_type": "code",
   "execution_count": 24,
   "id": "710e4608-72b4-40bf-afd3-930bd47bcb5b",
   "metadata": {},
   "outputs": [
    {
     "data": {
      "text/plain": [
       "(9232, 182, 362, 1)"
      ]
     },
     "execution_count": 24,
     "metadata": {},
     "output_type": "execute_result"
    }
   ],
   "source": [
    "dataset_CAE_single = np.array([datacube_precip[i,:,:].reshape((182,362,1)) for i in range(datacube_precip.shape[0]) if i not in np.array(idx_missingVal[\"index\"])])\n",
    "dataset_CAE_single.shape"
   ]
  },
  {
   "cell_type": "code",
   "execution_count": 25,
   "id": "5e974101-0901-4fa1-a67e-1eb1728c6685",
   "metadata": {},
   "outputs": [],
   "source": [
    "np.save(\"./data/WaterPrecip_datacube_CAE_single.npy\", dataset_CAE_single)"
   ]
  },
  {
   "cell_type": "markdown",
   "id": "488dafc2-8aa5-4c31-afde-f8bac93ce3c0",
   "metadata": {},
   "source": [
    "## Create the dataset for the Prediction CNN\n",
    "Remove the time slices that contains missing values and reshape array to match the requirements for the ML \\\n",
    "Blocks of 5 are saved as training sets"
   ]
  },
  {
   "cell_type": "code",
   "execution_count": 26,
   "id": "408f46e1-d6c9-4c5c-be61-91b9b438a4bb",
   "metadata": {},
   "outputs": [
    {
     "data": {
      "text/plain": [
       "574"
      ]
     },
     "execution_count": 26,
     "metadata": {},
     "output_type": "execute_result"
    }
   ],
   "source": [
    "data_exclude = list(set(functools.reduce(lambda a, b: a+list(range(b-4,b+1)), idx_missingVal.loc[:,\"index\"], [])))\n",
    "len(data_exclude)"
   ]
  },
  {
   "cell_type": "code",
   "execution_count": 27,
   "id": "a15dfce9-b59b-469e-8290-8493f18c922b",
   "metadata": {},
   "outputs": [
    {
     "data": {
      "text/plain": [
       "(8826, 182, 362, 5)"
      ]
     },
     "execution_count": 27,
     "metadata": {},
     "output_type": "execute_result"
    }
   ],
   "source": [
    "dataset_CNN_x = np.array([np.transpose(datacube_precip[i:i+5,:,:], (1, 2, 0)) for i in range(datacube_precip.shape[0]-4) if i not in data_exclude])\n",
    "dataset_CNN_x.shape"
   ]
  },
  {
   "cell_type": "code",
   "execution_count": 61,
   "id": "cc86bee1-7818-4ba9-a1d3-74fc6599aafe",
   "metadata": {},
   "outputs": [],
   "source": [
    "np.save(\"./data/WaterPrecip_datacube_CNN_x.npy\", dataset_CNN_x)"
   ]
  },
  {
   "cell_type": "code",
   "execution_count": 28,
   "id": "856d7749-9791-4f4e-a86f-e62e07c59382",
   "metadata": {},
   "outputs": [],
   "source": [
    "# smaller dataset for quick testing\n",
    "np.save(\"./data/WaterPrecip_datacube_CAE_testing.npy\", dataset_CNN_x[:10])"
   ]
  },
  {
   "cell_type": "markdown",
   "id": "8740a36e-7ffe-4adf-bb18-a05c54787b3a",
   "metadata": {},
   "source": [
    "### Saving slices of the dataset as true values for the prediction"
   ]
  },
  {
   "cell_type": "code",
   "execution_count": 62,
   "id": "8d3074f4-7d85-47a2-ae7e-a93ae5d4f1c0",
   "metadata": {},
   "outputs": [],
   "source": [
    "np.save(\"./data/WaterPrecip_datacube_CNN_y_s0\", dataset_CNN_x[:,1:181,1:361,0].reshape(8826, 180, 360, 1))\n",
    "np.save(\"./data/WaterPrecip_datacube_CNN_y_s1\", dataset_CNN_x[:,1:181,1:361,1].reshape(8826, 180, 360, 1))\n",
    "np.save(\"./data/WaterPrecip_datacube_CNN_y_s2\", dataset_CNN_x[:,1:181,1:361,2].reshape(8826, 180, 360, 1))\n",
    "np.save(\"./data/WaterPrecip_datacube_CNN_y_s3\", dataset_CNN_x[:,1:181,1:361,3].reshape(8826, 180, 360, 1))\n",
    "np.save(\"./data/WaterPrecip_datacube_CNN_y_s4\", dataset_CNN_x[:,1:181,1:361,4].reshape(8826, 180, 360, 1))"
   ]
  },
  {
   "cell_type": "code",
   "execution_count": null,
   "id": "f5a78c16-0512-4a48-a91b-6fb495f337bf",
   "metadata": {},
   "outputs": [],
   "source": []
  }
 ],
 "metadata": {
  "kernelspec": {
   "display_name": "Python 3 (ipykernel)",
   "language": "python",
   "name": "python3"
  },
  "language_info": {
   "codemirror_mode": {
    "name": "ipython",
    "version": 3
   },
   "file_extension": ".py",
   "mimetype": "text/x-python",
   "name": "python",
   "nbconvert_exporter": "python",
   "pygments_lexer": "ipython3",
   "version": "3.12.2"
  }
 },
 "nbformat": 4,
 "nbformat_minor": 5
}
