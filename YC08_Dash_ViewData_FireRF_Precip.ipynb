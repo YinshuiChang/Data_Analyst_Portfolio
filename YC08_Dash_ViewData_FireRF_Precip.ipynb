{
 "cells": [
  {
   "cell_type": "markdown",
   "id": "c2219bd8-4baa-42d9-b501-ae11a3514418",
   "metadata": {},
   "source": [
    "# Dash visualisation of FireRP and Precipitation"
   ]
  },
  {
   "cell_type": "code",
   "execution_count": 1,
   "id": "604fdf2b-7fde-474d-a44a-a6dc6ee2939f",
   "metadata": {},
   "outputs": [],
   "source": [
    "from dash import Dash, html, dcc, callback, Output, Input\n",
    "import plotly.express as px\n",
    "import plotly.graph_objects as go\n",
    "import pandas as pd\n",
    "import numpy as np"
   ]
  },
  {
   "cell_type": "code",
   "execution_count": 2,
   "id": "d3f31c98-3956-4d9c-b871-b36b37c243aa",
   "metadata": {},
   "outputs": [
    {
     "name": "stdout",
     "output_type": "stream",
     "text": [
      "Python: 3.12.2\n",
      "dash: 2.17.0\n",
      "plotly: 5.22.0\n",
      "pandas: 2.2.1\n",
      "numpy: 1.26.4\n"
     ]
    }
   ],
   "source": [
    "from platform import python_version\n",
    "import sys\n",
    "print('Python: ' + python_version()) # Python: 3.12.\n",
    "print ('dash: ' + sys.modules[\"dash\"].__version__) # dash: 2.17.0\n",
    "print ('plotly: ' + sys.modules[\"plotly\"].__version__) # plotly: 5.22.0\n",
    "print('pandas: ' + pd.__version__) # pandas: 2.2.1\n",
    "print('numpy: ' + np.__version__) # numpy: 1.26.4"
   ]
  },
  {
   "cell_type": "markdown",
   "id": "0dd59126-bda1-43d0-b1cf-a655a17a5b04",
   "metadata": {},
   "source": [
    "## Data import\n",
    "The Fire Reactive Power is the log transformed binned summary of the MWIR data"
   ]
  },
  {
   "cell_type": "code",
   "execution_count": 3,
   "id": "a5311dea-59e2-4577-af75-eb09f51fb59a",
   "metadata": {},
   "outputs": [],
   "source": [
    "datacube_precip = np.load(\"./data/WaterPrecip_datacube.npy\")\n",
    "datacube_FireRF = np.load(\"./data/FireRP_log_datacube_MWIR.npy\")\n",
    "\n",
    "time_precip = np.load(\"./data/WaterPrecip_time.npy\")\n",
    "time_FireRF = np.load(\"./data/FireRP_time.npy\")\n",
    "\n",
    "latitude = np.load(\"./data/WaterPrecip_latitude.npy\")\n",
    "longitude = np.load(\"./data/WaterPrecip_longitude.npy\")"
   ]
  },
  {
   "cell_type": "code",
   "execution_count": 4,
   "id": "17a59317-c03b-4d4f-aa78-c337db19e09b",
   "metadata": {},
   "outputs": [],
   "source": [
    "# Trim the Pricipitation dataset to the same size as the FireRP dataset\n",
    "datacube_precip = datacube_precip[np.argwhere(time_precip == time_FireRF[0])[0][0]:np.argwhere(time_precip == time_FireRF[-1])[0][0]+1]"
   ]
  },
  {
   "cell_type": "markdown",
   "id": "3959ecae-35e1-4ef3-9378-b97ba7b7f8c1",
   "metadata": {},
   "source": [
    "## Create a geojson grid of 1° Latitude x 1° Longitude\n",
    "### geojson file format:\n",
    "```python\n",
    "# Feature collection object\n",
    "{'type': 'FeatureCollection', \n",
    " # List of features\n",
    " 'features': [\n",
    "     {'type': 'Feature',\n",
    "      # supported geometry types: Point, LineString, Polygon, MultiPoint, MultiLineString, and MultiPolygon.\n",
    "      'geometry':\n",
    "          {'type': 'Polygon', \n",
    "            # List of coordinates\n",
    "           'coordinates': \n",
    "               [[[lon_1, lat_1], [lon_2, lat_2], ....]]}\n",
    "      # Dictionary of property key values sets\n",
    "      'properties': {key: value},\n",
    "      'id': x},\n",
    "     .... # further features\n",
    " ]\n",
    "}\n",
    "```"
   ]
  },
  {
   "cell_type": "code",
   "execution_count": 5,
   "id": "620169e4-e444-4d83-89ae-78ab452a29a7",
   "metadata": {},
   "outputs": [],
   "source": [
    "# create an empty feature collection\n",
    "geojson = {'type': 'FeatureCollection', \n",
    "                'features': []}\n",
    "# create a feature for each 1° Latitude x 1° Longitude square\n",
    "# 0° x 0° are at the coner of the grid\n",
    "for x in range(180):\n",
    "    for y in range(360):\n",
    "        # Add the corners of the 1x1 square to a geometry object\n",
    "        # The lat and lon are added as 90N -90S -180W 180E format\n",
    "        temp_geometry = {'type': 'Polygon',\n",
    "                 'coordinates': [[[y-180, x-90],\n",
    "                                 [y-179, x-90],\n",
    "                                 [y-179, x-89],\n",
    "                                 [y-180, x-89]]]}\n",
    "        # Add the geographical coordinates to the feature\n",
    "        temp_features = {'type': 'Feature', \n",
    "                         'geometry': temp_geometry,\n",
    "                         # Dictionary of property key values sets\n",
    "                         # an easy readable string is choosen as feature name\n",
    "                         'properties': {'location': \"lat: \" + str(x) + \" lon: \" + str(y)},\n",
    "                         # unique int id for each feature\n",
    "                         'id': x*360+y}\n",
    "        # add feature to feature collection\n",
    "        geojson[\"features\"].append(temp_features)"
   ]
  },
  {
   "cell_type": "markdown",
   "id": "c1738e26-b924-4b23-aa89-cdeac6b08044",
   "metadata": {},
   "source": [
    "## Create the dataframes from the datacubes"
   ]
  },
  {
   "cell_type": "code",
   "execution_count": 6,
   "id": "3ce5be01-80df-467a-846d-d76620f02884",
   "metadata": {},
   "outputs": [],
   "source": [
    "temp = pd.DataFrame({\n",
    "    \"Date\":  time_FireRF,\n",
    "    \"FireRP\": list(datacube_FireRF),\n",
    "    \"Precip\": list(datacube_precip)\n",
    "})\n",
    "\n",
    "## Sep Date\n",
    "temp.loc[:,'Year'] = temp.loc[:,'Date'].map(lambda x: int(str(x)[:4]))\n",
    "temp.loc[:,'Month'] = temp.loc[:,'Date'].map(lambda x: int(str(x)[4:6]))\n",
    "temp.loc[:,'Day'] = temp.loc[:,'Date'].map(lambda x: int(str(x)[6:8]))"
   ]
  },
  {
   "cell_type": "code",
   "execution_count": 7,
   "id": "b107dec6-c421-491a-b115-22bcce8dbb7c",
   "metadata": {},
   "outputs": [],
   "source": [
    "# clean and normalize the data to [0,1]\n",
    "datacube_precip[datacube_precip == -99999] = 0\n",
    "datacube_precip = datacube_precip - datacube_precip.min()\n",
    "datacube_FireRF = datacube_FireRF - datacube_FireRF.min()\n",
    "datacube_precip = datacube_precip/100\n",
    "datacube_FireRF = datacube_FireRF/datacube_FireRF.max()\n",
    "temp_2 = pd.DataFrame({\n",
    "    \"location\":  [(x,y) for x in range(180) for y in range(360)],\n",
    "    \"FireRP\": list(datacube_FireRF.reshape(-1, 180*360).T),\n",
    "    \"Precip\": list(datacube_precip.reshape(-1, 180*360).T)\n",
    "})\n",
    "## Sep location\n",
    "temp_2.loc[:,'lat'] = temp_2.loc[:,'location'].map(lambda x: x[0])\n",
    "temp_2.loc[:,'lon'] = temp_2.loc[:,'location'].map(lambda x: x[1])\n",
    "# rename the column location to match the geojson feature name\n",
    "temp_2[\"location\"] = temp_2.apply(lambda row: \"lat: \" + str(row[\"lat\"]) + \" lon: \" +  str(row[\"lon\"]), axis=1)"
   ]
  },
  {
   "cell_type": "markdown",
   "id": "5fad1798-5e1d-4f06-aee4-f298f3f6b4e6",
   "metadata": {},
   "source": [
    "## Create Dashboard"
   ]
  },
  {
   "cell_type": "code",
   "execution_count": 8,
   "id": "ec24feef-e95c-4f06-8623-fe9141390ab3",
   "metadata": {},
   "outputs": [],
   "source": [
    "global_figure_styles = dict(margin={\"r\":0,\"t\":0,\"l\":0,\"b\":0}, paper_bgcolor= '#e4edf4')"
   ]
  },
  {
   "cell_type": "code",
   "execution_count": 9,
   "id": "5a82f49c-d1de-4659-a906-50326e615188",
   "metadata": {
    "scrolled": true
   },
   "outputs": [],
   "source": [
    "# Create a Dash application instance\n",
    "app = Dash(__name__)\n",
    "\n",
    "# Define the layout of the app\n",
    "app.layout = html.Div([\n",
    "    # Header for the application\n",
    "    html.H1(children='Data Visualisation FireRP and Precipitation', style={'textAlign':'center'}),\n",
    "    # Radio buttons to select dataset (FireRP or Precipitation)\n",
    "    dcc.RadioItems(\n",
    "        id='dataset', \n",
    "        options=[\"FireRP\", \"Precipitation\"],\n",
    "        value=\"FireRP\",\n",
    "        inline=True\n",
    "    ),\n",
    "    # Slider to select the month\n",
    "    dcc.Slider(\n",
    "        0, 11, step=None,\n",
    "        marks={\n",
    "            0: '2020-03',\n",
    "            1: '2020-04',\n",
    "            2: '2020-05',\n",
    "            3: '2020-06',\n",
    "            4: '2020-07',\n",
    "            5: '2020-08',\n",
    "            6: '2020-09',\n",
    "            7: '2020-10',\n",
    "            8: '2020-11',\n",
    "            9: '2020-12',\n",
    "            10: '2021-01',\n",
    "            11: '2021-02',\n",
    "        },\n",
    "        value = 0,\n",
    "        id='Month',\n",
    "        included=False\n",
    "    ),\n",
    "    # Slider to select the day\n",
    "    dcc.Slider(\n",
    "        min = 1,\n",
    "        max = 31,\n",
    "        step = 1,\n",
    "        value = 1,\n",
    "        id='Day',\n",
    "        included=False\n",
    "    ),\n",
    "    # Graph component to display the main plot\n",
    "    dcc.Graph(id=\"graph\"),\n",
    "    # Graph component to display the time series plot\n",
    "    dcc.Graph(id=\"graph_time\"),\n",
    "])\n",
    "\n",
    "# Callback to set the maximum day value based on the selected month\n",
    "@callback(\n",
    "    Output('Day', 'max'),\n",
    "    Input('Month', 'value')\n",
    ")\n",
    "def set_day_value(month):\n",
    "    # Match the month value to return the corresponding maximum number of days\n",
    "    match month:\n",
    "        case 0: return 31\n",
    "        case 1: return 30\n",
    "        case 2: return 31\n",
    "        case 3: return 30\n",
    "        case 4: return 31\n",
    "        case 5: return 31\n",
    "        case 6: return 30\n",
    "        case 7: return 31\n",
    "        case 8: return 30\n",
    "        case 9: return 31\n",
    "        case 10: return 31\n",
    "        case 11: return 27\n",
    "        case _: return 31\n",
    "\n",
    "# Callback to update the main plot based on the selected dataset, month, and day\n",
    "@callback(\n",
    "    Output(\"graph\", \"figure\"), \n",
    "    Input('dataset', 'value'),\n",
    "    Input('Month', 'value'),\n",
    "    Input('Day', 'value')\n",
    ")\n",
    "def display_choropleth(dataset, month, day):\n",
    "    # Adjust the month value for indexing\n",
    "    month = (month+3)%13 + int(month/10)\n",
    "    # Prepare the data based on the selected dataset\n",
    "    if dataset == \"FireRP\":\n",
    "        temp_arr = pd.DataFrame(*temp.loc[(temp.loc[:,'Month'] == month) & (temp.loc[:,'Day'] == day),'FireRP']).stack().reset_index()\n",
    "        temp_scale = [(0, \"white\"), (0.5, \"orange\"), (1, \"red\")]\n",
    "    else:\n",
    "        temp_arr = pd.DataFrame(*temp.loc[(temp.loc[:,'Month'] == month) & (temp.loc[:,'Day'] == day),'Precip']).stack().reset_index()\n",
    "        temp_scale = [(0, \"white\"), (0.5, \"blue\"), (1, \"navy\")]\n",
    "    # Create a new column combining latitude and longitude information\n",
    "    temp_arr[\"location\"] = temp_arr.apply(lambda row: \"lat: \" + str(int(row[\"level_0\"])) + \" lon: \" +  str(int(row[\"level_1\"])), axis=1)\n",
    "    temp_arr.rename({0: \"value\"}, axis='columns', inplace=True)\n",
    "    # Create a choropleth map\n",
    "    fig = px.choropleth_mapbox(temp_arr, geojson=geojson, color=\"value\", opacity=.2,\n",
    "                               color_continuous_scale=temp_scale,\n",
    "                               locations=\"location\", featureidkey=\"properties.location\", \n",
    "                               center={\"lat\": 50, \"lon\": 10}, \n",
    "                               mapbox_style=\"carto-positron\", zoom=3)\n",
    "    fig.update_layout(**global_figure_styles,\n",
    "                      clickmode='event+select')\n",
    "    return fig\n",
    "\n",
    "# Callback to update the time series plot based on the selected point in the main plot\n",
    "@callback(\n",
    "    Output(\"graph_time\", \"figure\"), \n",
    "    Input(\"graph\", \"clickData\"),\n",
    ")\n",
    "def display_line(click):\n",
    "    itemp = 0\n",
    "    # Check if a point in the main plot is clicked\n",
    "    if click is not None:\n",
    "        itemp = click['points'][0]['pointNumber']\n",
    "    \n",
    "    # Create a line plot for the selected point\n",
    "    fig = go.Figure(data=px.line(pd.DataFrame({'Precip': temp_2.loc[itemp, \"Precip\"],'FireRP': temp_2.loc[itemp, \"FireRP\"]}).stack().reset_index(),\n",
    "                                    x = 'level_0', y = 0, color = 'level_1'))\n",
    "    fig.update_layout(**global_figure_styles, \n",
    "                      height=300)\n",
    "    return fig\n"
   ]
  },
  {
   "cell_type": "code",
   "execution_count": 10,
   "id": "ce658e89-0a5b-4ab4-aa6d-cc20eb449e2d",
   "metadata": {
    "scrolled": true
   },
   "outputs": [
    {
     "data": {
      "text/html": [
       "\n",
       "        <iframe\n",
       "            width=\"100%\"\n",
       "            height=\"1000\"\n",
       "            src=\"http://127.0.0.1:8050/\"\n",
       "            frameborder=\"0\"\n",
       "            allowfullscreen\n",
       "            \n",
       "        ></iframe>\n",
       "        "
      ],
      "text/plain": [
       "<IPython.lib.display.IFrame at 0x18b7c0e7410>"
      ]
     },
     "metadata": {},
     "output_type": "display_data"
    }
   ],
   "source": [
    "if __name__ == '__main__':\n",
    "    app.run(jupyter_height=1000, debug=True, port = 8050)"
   ]
  },
  {
   "cell_type": "code",
   "execution_count": null,
   "id": "362a775a-e5c7-44c8-a9cd-7e8bf42932cf",
   "metadata": {},
   "outputs": [],
   "source": []
  }
 ],
 "metadata": {
  "kernelspec": {
   "display_name": "Python 3 (ipykernel)",
   "language": "python",
   "name": "python3"
  },
  "language_info": {
   "codemirror_mode": {
    "name": "ipython",
    "version": 3
   },
   "file_extension": ".py",
   "mimetype": "text/x-python",
   "name": "python",
   "nbconvert_exporter": "python",
   "pygments_lexer": "ipython3",
   "version": "3.12.2"
  }
 },
 "nbformat": 4,
 "nbformat_minor": 5
}
