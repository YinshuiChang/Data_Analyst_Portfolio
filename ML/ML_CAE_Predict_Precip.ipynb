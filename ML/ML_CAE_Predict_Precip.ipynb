{
 "cells": [
  {
   "cell_type": "code",
   "execution_count": 1,
   "id": "0e3697e8-599d-4ac3-b0e2-28b8bdc2874f",
   "metadata": {},
   "outputs": [],
   "source": [
    "import tensorflow as tf\n",
    "\n",
    "import numpy as np\n",
    "from tensorflow.keras import layers, losses\n",
    "\n",
    "from Models import CNN_AE_vx01 as ae\n",
    "ae_version = ae.version\n",
    "ae_layers = ae.nlayers"
   ]
  },
  {
   "cell_type": "code",
   "execution_count": 2,
   "id": "cddede2a-bc97-46df-98b7-c284b37ccb27",
   "metadata": {},
   "outputs": [
    {
     "name": "stdout",
     "output_type": "stream",
     "text": [
      "Python: 3.10.9\n",
      "numpy: 1.23.5\n",
      "tensorflow: 2.10.0\n"
     ]
    }
   ],
   "source": [
    "from platform import python_version\n",
    "import sys\n",
    "print('Python: ' + python_version()) # Python: 3.10.9\n",
    "print('numpy: ' + np.__version__) # numpy: 1.23.5\n",
    "print ('tensorflow: ' + sys.modules[\"tensorflow\"].__version__) # tensorflow: 2.10.0"
   ]
  },
  {
   "cell_type": "markdown",
   "id": "76d058bc-356d-48e4-9f9b-3def1de23041",
   "metadata": {},
   "source": [
    "# Load CAE"
   ]
  },
  {
   "cell_type": "code",
   "execution_count": 3,
   "id": "8a3d713f-7b23-4040-a902-176fb9b53a30",
   "metadata": {},
   "outputs": [],
   "source": [
    "version = \"34\"\n",
    "autoencoder = ae.CNN_AE()\n",
    "autoencoder.encoder.load_weights('./Weights/cnn_ae_v' + ae_version + '_encoder_weights_' + version)\n",
    "autoencoder.decoder.load_weights('./Weights/cnn_ae_v' + ae_version + '_decoder_weights_' + version)\n",
    "autoencoder.compile(optimizer='adam', loss=losses.MeanSquaredError())\n",
    "autoencoder.build((None,182, 362, ae_layers))"
   ]
  },
  {
   "cell_type": "markdown",
   "id": "681200be-4346-4d6b-8abb-f733ba6c495a",
   "metadata": {},
   "source": [
    "# Testing CAE"
   ]
  },
  {
   "cell_type": "code",
   "execution_count": 4,
   "id": "30a6b556-76f7-484e-85db-553836d3dbde",
   "metadata": {},
   "outputs": [],
   "source": [
    "datacube_precip = np.load(\"../data/WaterPrecip_datacube_CAE_testing.npy\")"
   ]
  },
  {
   "cell_type": "code",
   "execution_count": 5,
   "id": "7a76cb4a-d204-42d2-a596-517ff1496249",
   "metadata": {},
   "outputs": [
    {
     "data": {
      "text/plain": [
       "(10, 182, 362, 5)"
      ]
     },
     "execution_count": 5,
     "metadata": {},
     "output_type": "execute_result"
    }
   ],
   "source": [
    "datacube_precip.shape"
   ]
  },
  {
   "cell_type": "code",
   "execution_count": 6,
   "id": "be5af961-5cab-45f8-91fb-c91b00d89f81",
   "metadata": {},
   "outputs": [],
   "source": [
    "## to masked the upper and lower parts of the data\n",
    "# mask = np.array([[[[False]]*362]*51 + [[[True]]*362]*80 + [[[False]]*362]*51])\n",
    "# mask.shape\n",
    "# temp = autoencoder.predict((datacube_precip*mask)[:,:,:,:ae_layers])"
   ]
  },
  {
   "cell_type": "code",
   "execution_count": 8,
   "id": "f6a872e4-b0fc-43f7-b387-440c02b1e029",
   "metadata": {},
   "outputs": [
    {
     "name": "stdout",
     "output_type": "stream",
     "text": [
      "1/1 [==============================] - 1s 502ms/step\n"
     ]
    }
   ],
   "source": [
    "temp = autoencoder.predict((datacube_precip)[:,:,:,:ae_layers])"
   ]
  },
  {
   "cell_type": "code",
   "execution_count": 9,
   "id": "25bbf56d-4193-421c-83e0-09e79341af76",
   "metadata": {},
   "outputs": [],
   "source": [
    "np.save(\"./Testing/temp_v\" +ae_version+ \"_v\" +version+ \".npy\", temp)"
   ]
  },
  {
   "cell_type": "markdown",
   "id": "152cda04-ba7e-498b-b7f6-dbab40a46e1e",
   "metadata": {},
   "source": [
    "# Encode Data with CAE"
   ]
  },
  {
   "cell_type": "code",
   "execution_count": 35,
   "id": "c7380c46-0228-49c6-9ca1-c6b2bec456be",
   "metadata": {},
   "outputs": [
    {
     "data": {
      "text/plain": [
       "(8826, 182, 362, 5)"
      ]
     },
     "execution_count": 35,
     "metadata": {},
     "output_type": "execute_result"
    }
   ],
   "source": [
    "datacube_precip = np.load(\"../data/WaterPrecip_datacube_CNN_x.npy\")\n",
    "datacube_precip.shape"
   ]
  },
  {
   "cell_type": "code",
   "execution_count": 9,
   "id": "0f342d04-efa6-4b17-8173-70c7a9517aa3",
   "metadata": {},
   "outputs": [
    {
     "name": "stdout",
     "output_type": "stream",
     "text": [
      "276/276 [==============================] - 6s 20ms/step\n"
     ]
    },
    {
     "data": {
      "text/plain": [
       "(8826, 45, 90, 4)"
      ]
     },
     "execution_count": 9,
     "metadata": {},
     "output_type": "execute_result"
    }
   ],
   "source": [
    "datacube_precip_encoded = autoencoder.encoder.predict(datacube_precip[:,:,:,:nlayers])\n",
    "datacube_precip_encoded.shape"
   ]
  },
  {
   "cell_type": "code",
   "execution_count": 10,
   "id": "0fae24ad-9576-4f2d-bd94-0280a91b284e",
   "metadata": {},
   "outputs": [],
   "source": [
    "np.save(\"../data/WaterPrecip_datacube_CNN_x_encoded.npy\", datacube_precip_encoded)"
   ]
  },
  {
   "cell_type": "markdown",
   "id": "841931a4-2f23-4723-83ed-0a8dccc0ca38",
   "metadata": {},
   "source": [
    "# Encode Data with CAE single"
   ]
  },
  {
   "cell_type": "code",
   "execution_count": 18,
   "id": "3f487ee0-7400-4c8d-a9a6-6dbb4a9f488b",
   "metadata": {},
   "outputs": [
    {
     "name": "stdout",
     "output_type": "stream",
     "text": [
      "276/276 [==============================] - 3s 11ms/step\n",
      "276/276 [==============================] - 4s 15ms/step\n",
      "276/276 [==============================] - 3s 12ms/step\n",
      "276/276 [==============================] - 3s 12ms/step\n",
      "276/276 [==============================] - 4s 12ms/step\n"
     ]
    },
    {
     "data": {
      "text/plain": [
       "(8826, 45, 90, 5)"
      ]
     },
     "execution_count": 18,
     "metadata": {},
     "output_type": "execute_result"
    }
   ],
   "source": [
    "datacube_precip_encoded_0 = autoencoder.encoder.predict(datacube_precip[:,:,:,0])\n",
    "datacube_precip_encoded_1 = autoencoder.encoder.predict(datacube_precip[:,:,:,1])\n",
    "datacube_precip_encoded_2 = autoencoder.encoder.predict(datacube_precip[:,:,:,2])\n",
    "datacube_precip_encoded_3 = autoencoder.encoder.predict(datacube_precip[:,:,:,3])\n",
    "datacube_precip_encoded_4 = autoencoder.encoder.predict(datacube_precip[:,:,:,4])\n",
    "datacube_precip_encoded_singles = np.concatenate((datacube_precip_encoded_0, datacube_precip_encoded_1, datacube_precip_encoded_2, datacube_precip_encoded_3, datacube_precip_encoded_4), axis=3)\n",
    "datacube_precip_encoded_singles.shape"
   ]
  },
  {
   "cell_type": "code",
   "execution_count": 20,
   "id": "86be673e-3758-48fc-9d2a-7900971a2195",
   "metadata": {},
   "outputs": [],
   "source": [
    "np.save(\"../data/WaterPrecip_datacube_CNN_x_encoded_singles.npy\", datacube_precip_encoded_singles)"
   ]
  },
  {
   "cell_type": "markdown",
   "id": "e82ce10d-313d-44d0-a010-c743478ece94",
   "metadata": {},
   "source": [
    "# Encode Data with CAE single masked"
   ]
  },
  {
   "cell_type": "code",
   "execution_count": 39,
   "id": "5d57c29d-2586-46e4-b67b-465a10e951e9",
   "metadata": {},
   "outputs": [
    {
     "name": "stdout",
     "output_type": "stream",
     "text": [
      "276/276 [==============================] - 4s 12ms/step\n",
      "276/276 [==============================] - 3s 12ms/step\n",
      "276/276 [==============================] - 4s 13ms/step\n",
      "276/276 [==============================] - 4s 13ms/step\n",
      "276/276 [==============================] - 4s 13ms/step\n"
     ]
    },
    {
     "data": {
      "text/plain": [
       "(8826, 45, 90, 5)"
      ]
     },
     "execution_count": 39,
     "metadata": {},
     "output_type": "execute_result"
    }
   ],
   "source": [
    "datacube_precip_encoded_0 = autoencoder.encoder.predict(datacube_precip[:,:,:,0]*mask[:,:,:,0])\n",
    "datacube_precip_encoded_1 = autoencoder.encoder.predict(datacube_precip[:,:,:,1]*mask[:,:,:,0])\n",
    "datacube_precip_encoded_2 = autoencoder.encoder.predict(datacube_precip[:,:,:,2]*mask[:,:,:,0])\n",
    "datacube_precip_encoded_3 = autoencoder.encoder.predict(datacube_precip[:,:,:,3]*mask[:,:,:,0])\n",
    "datacube_precip_encoded_4 = autoencoder.encoder.predict(datacube_precip[:,:,:,4]*mask[:,:,:,0])\n",
    "datacube_precip_encoded_singles_masked = np.concatenate((datacube_precip_encoded_0, datacube_precip_encoded_1, datacube_precip_encoded_2, datacube_precip_encoded_3, datacube_precip_encoded_4), axis=3)\n",
    "datacube_precip_encoded_singles_masked.shape"
   ]
  },
  {
   "cell_type": "code",
   "execution_count": 41,
   "id": "904caeba-0883-4cca-abc1-271b26252ddf",
   "metadata": {},
   "outputs": [],
   "source": [
    "np.save(\"../data/WaterPrecip_datacube_CNN_x_encoded_singles_masked.npy\", datacube_precip_encoded_singles_masked)"
   ]
  },
  {
   "cell_type": "code",
   "execution_count": null,
   "id": "932d4f81-0c24-4b21-9b91-59e36ddb90ab",
   "metadata": {},
   "outputs": [],
   "source": []
  }
 ],
 "metadata": {
  "kernelspec": {
   "display_name": "Python 3 (ipykernel)",
   "language": "python",
   "name": "python3"
  },
  "language_info": {
   "codemirror_mode": {
    "name": "ipython",
    "version": 3
   },
   "file_extension": ".py",
   "mimetype": "text/x-python",
   "name": "python",
   "nbconvert_exporter": "python",
   "pygments_lexer": "ipython3",
   "version": "3.10.9"
  }
 },
 "nbformat": 4,
 "nbformat_minor": 5
}
