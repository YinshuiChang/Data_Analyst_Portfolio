{
 "cells": [
  {
   "cell_type": "code",
   "execution_count": 1,
   "id": "79a34265-7519-4be5-aa02-833b3b1a8595",
   "metadata": {},
   "outputs": [],
   "source": [
    "import tensorflow as tf\n",
    "\n",
    "import numpy as np\n",
    "from tensorflow.keras import layers, losses\n",
    "\n",
    "from Models import CNN_pred_IIOII_v01 as pcnn\n",
    "cnn_slayers = pcnn.slayers\n",
    "cnn_nlayers = pcnn.nlayers\n",
    "cnn_version = pcnn.version"
   ]
  },
  {
   "cell_type": "code",
   "execution_count": 2,
   "id": "38a18dbe-0662-4cb0-9cd9-61403534b29b",
   "metadata": {},
   "outputs": [
    {
     "name": "stdout",
     "output_type": "stream",
     "text": [
      "Python: 3.10.9\n",
      "numpy: 1.23.5\n",
      "tensorflow: 2.10.0\n"
     ]
    }
   ],
   "source": [
    "from platform import python_version\n",
    "import sys\n",
    "print('Python: ' + python_version()) # Python: 3.10.9\n",
    "print('numpy: ' + np.__version__) # numpy: 1.23.5\n",
    "print ('tensorflow: ' + sys.modules[\"tensorflow\"].__version__) # tensorflow: 2.10.0"
   ]
  },
  {
   "cell_type": "markdown",
   "id": "209dc4d9-108f-413f-9979-7c850a70dddb",
   "metadata": {},
   "source": [
    "## Load the data"
   ]
  },
  {
   "cell_type": "code",
   "execution_count": 3,
   "id": "11dda11d-4564-42ac-818a-65f23ae61bcd",
   "metadata": {},
   "outputs": [],
   "source": [
    "# data_precip_x = np.load(\"../data/WaterPrecip_datacube_CNN_x_encoded.npy\")\n",
    "data_precip_x = np.load(\"../data/WaterPrecip_datacube_CNN_x_encoded_singles.npy\")\n",
    "# data_precip_x = np.load(\"../data/WaterPrecip_datacube_CNN_x_encoded_singles_masked.npy\")"
   ]
  },
  {
   "cell_type": "markdown",
   "id": "d9304bed-cf4e-499f-af0b-42136d89d335",
   "metadata": {},
   "source": [
    "## Load the CNN predictor"
   ]
  },
  {
   "cell_type": "code",
   "execution_count": 4,
   "id": "bece0fc0-33fa-4e76-acef-d87be2e98f95",
   "metadata": {},
   "outputs": [],
   "source": [
    "version = \"57\"\n",
    "cnn = pcnn.CNN_pred()\n",
    "cnn.model.load_weights('./Weights/cnn_pred_' + cnn_slayers + '_v' + cnn_version + '_weights_' + version)\n",
    "cnn.compile(optimizer='adam', loss=losses.MeanSquaredError())\n",
    "cnn.build((None,45, 90, cnn_nlayers))"
   ]
  },
  {
   "cell_type": "markdown",
   "id": "c51147d6-abb4-41e3-9eb0-33d52c2ec19d",
   "metadata": {},
   "source": [
    "## Predict the Data"
   ]
  },
  {
   "cell_type": "code",
   "execution_count": 5,
   "id": "4dc56479-6606-43ca-9395-7045e253086e",
   "metadata": {},
   "outputs": [
    {
     "name": "stdout",
     "output_type": "stream",
     "text": [
      "1/1 [==============================] - 0s 329ms/step\n"
     ]
    }
   ],
   "source": [
    "temp = cnn.predict(data_precip_x[:10,:,:,[0,1,3,4]])"
   ]
  },
  {
   "cell_type": "markdown",
   "id": "c67eb7ae-8f26-42a6-8f9f-903052ef6e31",
   "metadata": {},
   "source": [
    "## Saving the Prediction"
   ]
  },
  {
   "cell_type": "code",
   "execution_count": 6,
   "id": "6b1b5c0f-cfc0-4a24-84ba-6b2a9b846d36",
   "metadata": {},
   "outputs": [],
   "source": [
    "np.save(\"./Testing/cnn_pred_\" + cnn_slayers + \"_v\" +cnn_version+ \"_v\" +version+ \".npy\", temp)"
   ]
  },
  {
   "cell_type": "code",
   "execution_count": null,
   "id": "f2c64d95-df70-4b64-8b14-6ff54481da41",
   "metadata": {},
   "outputs": [],
   "source": []
  }
 ],
 "metadata": {
  "kernelspec": {
   "display_name": "Python 3 (ipykernel)",
   "language": "python",
   "name": "python3"
  },
  "language_info": {
   "codemirror_mode": {
    "name": "ipython",
    "version": 3
   },
   "file_extension": ".py",
   "mimetype": "text/x-python",
   "name": "python",
   "nbconvert_exporter": "python",
   "pygments_lexer": "ipython3",
   "version": "3.10.9"
  }
 },
 "nbformat": 4,
 "nbformat_minor": 5
}
