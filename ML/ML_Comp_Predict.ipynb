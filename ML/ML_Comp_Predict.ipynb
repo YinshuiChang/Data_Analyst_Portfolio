{
 "cells": [
  {
   "cell_type": "markdown",
   "id": "c4741174-183a-4f67-9181-40d40daa3b50",
   "metadata": {},
   "source": [
    "# Testing the combined model with the encoder and the predictor in one model"
   ]
  },
  {
   "cell_type": "code",
   "execution_count": 1,
   "id": "f94300fb-3536-4490-a793-aa64f49c7649",
   "metadata": {},
   "outputs": [],
   "source": [
    "import tensorflow as tf\n",
    "\n",
    "import numpy as np\n",
    "from tensorflow.keras import layers, losses"
   ]
  },
  {
   "cell_type": "code",
   "execution_count": 2,
   "id": "baa1b5af-083f-4211-873e-010d0aec0467",
   "metadata": {},
   "outputs": [
    {
     "name": "stdout",
     "output_type": "stream",
     "text": [
      "Python: 3.10.9\n",
      "numpy: 1.23.5\n",
      "tensorflow: 2.10.0\n"
     ]
    }
   ],
   "source": [
    "from platform import python_version\n",
    "import sys\n",
    "print('Python: ' + python_version()) # Python: 3.10.9\n",
    "print('numpy: ' + np.__version__) # numpy: 1.23.5\n",
    "print ('tensorflow: ' + sys.modules[\"tensorflow\"].__version__) # tensorflow: 2.10.0"
   ]
  },
  {
   "cell_type": "code",
   "execution_count": 2,
   "id": "3e0103f5-0732-42c1-b5cd-3ac99d5793e1",
   "metadata": {},
   "outputs": [],
   "source": [
    "from Models import CNN_comp_IIOII as ccnn\n",
    "cnn_slayers = ccnn.slayers  # layer structure I: input, O: output\n",
    "cnn_elayers = ccnn.elayers  # number of encoder input layer\n",
    "cnn_players = ccnn.players  # number of predictor input layer\n",
    "cnn_version = ccnn.version  # version"
   ]
  },
  {
   "cell_type": "code",
   "execution_count": null,
   "id": "683d640b-b7cd-4db1-9668-8e2154f95512",
   "metadata": {},
   "outputs": [],
   "source": [
    "cnn = ccnn.CNN_comp()\n",
    "cnn.compile(optimizer='adam', loss=losses.MeanSquaredError())\n",
    "cnn.build((None,180, 360, cnn_players))\n",
    "\n",
    "cnn.encoder.summary()\n",
    "cnn.pred.summary()\n",
    "cnn.summary()"
   ]
  },
  {
   "cell_type": "code",
   "execution_count": null,
   "id": "de9dc158-cd78-4c27-b9b7-c860a58aaa87",
   "metadata": {},
   "outputs": [],
   "source": [
    "\n",
    "data_precip_x = np.load(\"../data/WaterPrecip_datacube_CNN_x.npy\")\n",
    "data_precip_x.shape"
   ]
  },
  {
   "cell_type": "code",
   "execution_count": null,
   "id": "330e4fd7-ca9b-4646-b744-45cdc9f3c29b",
   "metadata": {},
   "outputs": [],
   "source": [
    "# the padding is added by the model\n",
    "pred_precip = cnn.predict(data_precip_x[:10,1:181,1:361,[0,1,2]])\n",
    "pred_precip.shape"
   ]
  },
  {
   "cell_type": "code",
   "execution_count": null,
   "id": "51d85354-1a9d-46ab-a4a3-3d474760fd2e",
   "metadata": {},
   "outputs": [],
   "source": [
    "np.save(\"./Testing/temp_complete_IIIO\", pred_precip)"
   ]
  },
  {
   "cell_type": "code",
   "execution_count": null,
   "id": "d775c87f-5ee9-4f8a-aa02-e98824ac19c7",
   "metadata": {},
   "outputs": [],
   "source": []
  }
 ],
 "metadata": {
  "kernelspec": {
   "display_name": "Python 3 (ipykernel)",
   "language": "python",
   "name": "python3"
  },
  "language_info": {
   "codemirror_mode": {
    "name": "ipython",
    "version": 3
   },
   "file_extension": ".py",
   "mimetype": "text/x-python",
   "name": "python",
   "nbconvert_exporter": "python",
   "pygments_lexer": "ipython3",
   "version": "3.10.9"
  }
 },
 "nbformat": 4,
 "nbformat_minor": 5
}
