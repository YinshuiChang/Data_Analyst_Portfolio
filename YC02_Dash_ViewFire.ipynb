{
 "cells": [
  {
   "cell_type": "code",
   "execution_count": 1,
   "id": "d602bf25-44e0-40e9-a763-747f2a3508ab",
   "metadata": {},
   "outputs": [],
   "source": [
    "from dash import Dash, html, dcc, callback, Output, Input\n",
    "import plotly.express as px\n",
    "import pandas as pd\n",
    "import dash_bootstrap_components as dbc\n",
    "import plotly.graph_objects as go"
   ]
  },
  {
   "cell_type": "code",
   "execution_count": 2,
   "id": "a99368f7-9719-4a2e-8869-97693776cf48",
   "metadata": {},
   "outputs": [
    {
     "name": "stdout",
     "output_type": "stream",
     "text": [
      "Python: 3.12.2\n",
      "pandas: 2.2.1\n",
      "plotly: 5.22.0\n",
      "dash_bootstrap_components: 1.6.0\n"
     ]
    }
   ],
   "source": [
    "from platform import python_version\n",
    "import sys\n",
    "print('Python: ' + python_version()) # Python: 3.12.2\n",
    "print('pandas: ' + pd.__version__) # pandas: 2.2.1\n",
    "print ('plotly: ' + sys.modules[\"plotly\"].__version__) # plotly: 5.22.0\n",
    "print('dash_bootstrap_components: ' + dbc.__version__) # dash_bootstrap_components: 1.6.0"
   ]
  },
  {
   "cell_type": "code",
   "execution_count": 3,
   "id": "91ca5035-34ed-46aa-ae03-db652a6b637a",
   "metadata": {},
   "outputs": [],
   "source": [
    "FireRP_MWIR = pd.read_csv(\"./data/FireRP_dataset_MWIR.csv\", index_col = 0)"
   ]
  },
  {
   "cell_type": "code",
   "execution_count": 4,
   "id": "787cc60c-6914-404b-86ea-ccd8fe6b3b75",
   "metadata": {},
   "outputs": [],
   "source": [
    "global_figure_styles = dict(margin={\"r\":0,\"t\":0,\"l\":0,\"b\":0}, paper_bgcolor= '#e4edf4')"
   ]
  },
  {
   "cell_type": "code",
   "execution_count": 5,
   "id": "2b6f83c0-88d9-4527-83ba-e3cb7ef01352",
   "metadata": {},
   "outputs": [],
   "source": [
    "# Create a Dash application instance\n",
    "app = Dash(__name__)\n",
    "\n",
    "# Define the layout of the app\n",
    "app.layout = html.Div([\n",
    "    # Header for the application\n",
    "    html.H1(children='Data Visualisation FireRF', style={'textAlign':'center'}),\n",
    "    # Radio buttons to select time aggregation (Daily or Monthly)\n",
    "    dcc.RadioItems(\n",
    "        id='Time Aggregation', \n",
    "        options=[\"Daily\", \"Monthly\"],\n",
    "        value=\"Daily\",\n",
    "        inline=True\n",
    "    ),\n",
    "    # Slider to select the month\n",
    "    dcc.Slider(\n",
    "        0, 11, step=None,\n",
    "        marks={\n",
    "            0: '2020-03',\n",
    "            1: '2020-04',\n",
    "            2: '2020-05',\n",
    "            3: '2020-06',\n",
    "            4: '2020-07',\n",
    "            5: '2020-08',\n",
    "            6: '2020-09',\n",
    "            7: '2020-10',\n",
    "            8: '2020-11',\n",
    "            9: '2020-12',\n",
    "            10: '2021-01',\n",
    "            11: '2021-02',\n",
    "        },\n",
    "        value = 0,\n",
    "        id='Month',\n",
    "        included=False\n",
    "    ),\n",
    "    # Fade component to control the visibility of the day slider\n",
    "    dbc.Fade(\n",
    "        dcc.Slider(\n",
    "            min = 1,\n",
    "            max = 31,\n",
    "            step = 1,\n",
    "            value = 1,\n",
    "            id='Day',\n",
    "            included=False\n",
    "        ),\n",
    "        id=\"fade\",\n",
    "        is_in=True,\n",
    "    ),\n",
    "    # Graph component to display the plot\n",
    "    dcc.Graph(id=\"graph\"),\n",
    "]),\n",
    "\n",
    "# Callback to toggle the visibility of the day slider based on time aggregation\n",
    "@callback(\n",
    "    Output(\"fade\", \"is_in\"),\n",
    "    Input('Time Aggregation', 'value'),\n",
    ")\n",
    "def toggle_fade(timeAgg):\n",
    "    # Hide the day slider if time aggregation is monthly\n",
    "    if timeAgg == \"Monthly\":\n",
    "        return False\n",
    "    else:\n",
    "        return True\n",
    "\n",
    "# Callback to set the maximum day value based on the selected month\n",
    "@callback(\n",
    "    Output('Day', 'max'),\n",
    "    Input('Month', 'value')\n",
    ")\n",
    "def set_day_value(month):\n",
    "    # Match the month value to return the corresponding maximum number of days\n",
    "    match month:\n",
    "        case 0: return 31\n",
    "        case 1: return 30\n",
    "        case 2: return 31\n",
    "        case 3: return 30\n",
    "        case 4: return 31\n",
    "        case 5: return 31\n",
    "        case 6: return 30\n",
    "        case 7: return 31\n",
    "        case 8: return 30\n",
    "        case 9: return 31\n",
    "        case 10: return 31\n",
    "        case 11: return 27\n",
    "        case _: return 31\n",
    "\n",
    "# Callback to update the plot based on the selected time aggregation, month, and day\n",
    "@callback(\n",
    "    Output(\"graph\", \"figure\"), \n",
    "    Input('Time Aggregation', 'value'),\n",
    "    Input('Month', 'value'),\n",
    "    Input('Day', 'value')\n",
    ")\n",
    "def display_choropleth(timeAgg, month, day):\n",
    "    # Adjust the month value for indexing\n",
    "    month = (month+3)%13 + int(month/10)\n",
    "    if timeAgg == 'Monthly':\n",
    "        # Create a density map for the selected month\n",
    "        fig = px.density_mapbox(FireRP_MWIR.loc[(FireRP_MWIR.loc[:,'Month'] == month),:], \n",
    "                                lat='Latitude', \n",
    "                                lon='Longitude', \n",
    "                                z='FRP_MWIR', \n",
    "                                radius=3,\n",
    "                                center=dict(lat=25, lon=0), zoom=1,\n",
    "                                mapbox_style=\"open-street-map\")\n",
    "        fig.update_layout(\n",
    "            **global_figure_styles\n",
    "        )\n",
    "    else:\n",
    "        # Create a scattergeo plot for the selected day       \n",
    "        fig = go.Figure(data=go.Scattergeo(\n",
    "            lat = FireRP_MWIR.loc[(FireRP_MWIR.loc[:,'Month'] == month) & (FireRP_MWIR.loc[:,'Day'] == day), 'Latitude'],\n",
    "            lon = FireRP_MWIR.loc[(FireRP_MWIR.loc[:,'Month'] == month) & (FireRP_MWIR.loc[:,'Day'] == day), 'Longitude'],\n",
    "            text = \"FRP: \" + FireRP_MWIR.loc[(FireRP_MWIR.loc[:,'Month'] == month) & (FireRP_MWIR.loc[:,'Day'] == day), 'FRP_MWIR'].astype(str) ,\n",
    "            marker = dict(\n",
    "                color = FireRP_MWIR.loc[(FireRP_MWIR.loc[:,'Month'] == month) & (FireRP_MWIR.loc[:,'Day'] == day), 'log_FRP_MWIR'],\n",
    "                colorscale = 'Reds',\n",
    "                opacity = 0.7,\n",
    "            \n",
    "            )\n",
    "        ))\n",
    "        fig.update_layout(\n",
    "            geo_scope='world', **global_figure_styles\n",
    "        )\n",
    "    return fig\n"
   ]
  },
  {
   "cell_type": "code",
   "execution_count": 6,
   "id": "f76d8a9b-ff72-42df-9325-319354e51435",
   "metadata": {},
   "outputs": [
    {
     "data": {
      "text/html": [
       "\n",
       "        <iframe\n",
       "            width=\"100%\"\n",
       "            height=\"650\"\n",
       "            src=\"http://127.0.0.1:8060/\"\n",
       "            frameborder=\"0\"\n",
       "            allowfullscreen\n",
       "            \n",
       "        ></iframe>\n",
       "        "
      ],
      "text/plain": [
       "<IPython.lib.display.IFrame at 0x1d2b2c1ebd0>"
      ]
     },
     "metadata": {},
     "output_type": "display_data"
    }
   ],
   "source": [
    "if __name__ == '__main__':\n",
    "    app.run(debug=True, port = 8060)"
   ]
  },
  {
   "cell_type": "code",
   "execution_count": null,
   "id": "2d51601d-c0e6-4227-a1f8-8a15b26b1f7f",
   "metadata": {},
   "outputs": [],
   "source": []
  }
 ],
 "metadata": {
  "kernelspec": {
   "display_name": "Python 3 (ipykernel)",
   "language": "python",
   "name": "python3"
  },
  "language_info": {
   "codemirror_mode": {
    "name": "ipython",
    "version": 3
   },
   "file_extension": ".py",
   "mimetype": "text/x-python",
   "name": "python",
   "nbconvert_exporter": "python",
   "pygments_lexer": "ipython3",
   "version": "3.12.2"
  }
 },
 "nbformat": 4,
 "nbformat_minor": 5
}
